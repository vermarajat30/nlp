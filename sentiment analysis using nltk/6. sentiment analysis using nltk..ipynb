{
 "cells": [
  {
   "cell_type": "code",
   "execution_count": 101,
   "id": "7f70229a",
   "metadata": {},
   "outputs": [],
   "source": [
    "import nltk\n",
    "\n",
    "from nltk.sentiment.vader import SentimentIntensityAnalyzer\n"
   ]
  },
  {
   "cell_type": "code",
   "execution_count": 102,
   "id": "6aec1a7b",
   "metadata": {},
   "outputs": [],
   "source": [
    "text = open(r\"E:\\courses\\natural lang processing\\data sets for coure 1\\kalaam_speech.txt\", encoding = \"utf-8\").read()"
   ]
  },
  {
   "cell_type": "code",
   "execution_count": 103,
   "id": "ae9cbc14",
   "metadata": {},
   "outputs": [],
   "source": [
    "#cleaning of text data\n",
    "\n",
    "text = text.lower()\n",
    "\n",
    "\n",
    "import re\n",
    "\n",
    "text = re.sub('[^a-zA-Z]', \" \", text)"
   ]
  },
  {
   "cell_type": "code",
   "execution_count": 104,
   "id": "6c5d38bf",
   "metadata": {},
   "outputs": [],
   "source": [
    "corpus = []\n",
    "\n",
    "from nltk.stem import WordNetLemmatizer\n",
    "from nltk.corpus import stopwords\n",
    "\n",
    "lm = WordNetLemmatizer()\n",
    "\n",
    "text = text.split()\n",
    "\n",
    "text = [lm.lemmatize(word) for word in text if word not in (stopwords.words(\"english\")) ]\n",
    "\n",
    "text = \" \".join(text)\n",
    "\n",
    "\n",
    "\n",
    "\n",
    "\n",
    "\n"
   ]
  },
  {
   "cell_type": "code",
   "execution_count": 105,
   "id": "1c1240e4",
   "metadata": {},
   "outputs": [],
   "source": [
    "def sentiment_analyse(testing_text):\n",
    "    score = SentimentIntensityAnalyzer().polarity_scores(testing_text)\n",
    "    import matplotlib.pyplot as plt\n",
    "    emotion=[\"positive\",\"negative\"]\n",
    "    value=[score['pos'], score['neg']]\n",
    "    \n",
    "    plt.bar(emotion[0:], value[0:])\n",
    "    plt.show()\n",
    "    return score"
   ]
  },
  {
   "cell_type": "code",
   "execution_count": 106,
   "id": "53185c8e",
   "metadata": {},
   "outputs": [
    {
     "data": {
      "image/png": "[encoded data removed]",
      "text/plain": [
       "<Figure size 432x288 with 1 Axes>"
      ]
     },
     "metadata": {
      "needs_background": "light"
     },
     "output_type": "display_data"
    },
    {
     "data": {
      "text/plain": [
       "{'neg': 0.125, 'neu': 0.668, 'pos': 0.207, 'compound': 0.9979}"
      ]
     },
     "execution_count": 106,
     "metadata": {},
     "output_type": "execute_result"
    }
   ],
   "source": [
    "sentiment_analyse(text)"
   ]
  },
  {
   "cell_type": "code",
   "execution_count": null,
   "id": "7b78f3a5",
   "metadata": {},
   "outputs": [],
   "source": []
  },
  {
   "cell_type": "code",
   "execution_count": null,
   "id": "b3862287",
   "metadata": {},
   "outputs": [],
   "source": []
  }
 ],
 "metadata": {
  "kernelspec": {
   "display_name": "Python 3",
   "language": "python",
   "name": "python3"
  },
  "language_info": {
   "codemirror_mode": {
    "name": "ipython",
    "version": 3
   },
   "file_extension": ".py",
   "mimetype": "text/x-python",
   "name": "python",
   "nbconvert_exporter": "python",
   "pygments_lexer": "ipython3",
   "version": "3.7.6"
  }
 },
 "nbformat": 4,
 "nbformat_minor": 5
}
